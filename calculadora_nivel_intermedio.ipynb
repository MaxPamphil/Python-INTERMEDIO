{
  "nbformat": 4,
  "nbformat_minor": 0,
  "metadata": {
    "colab": {
      "provenance": [],
      "authorship_tag": "ABX9TyMk6C9duLeZSeCOUgzlOs0L",
      "include_colab_link": true
    },
    "kernelspec": {
      "name": "python3",
      "display_name": "Python 3"
    },
    "language_info": {
      "name": "python"
    }
  },
  "cells": [
    {
      "cell_type": "markdown",
      "metadata": {
        "id": "view-in-github",
        "colab_type": "text"
      },
      "source": [
        "<a href=\"https://colab.research.google.com/github/MaxPamphil/Python-INTERMEDIO/blob/main/calculadora_nivel_intermedio.ipynb\" target=\"_parent\"><img src=\"https://colab.research.google.com/assets/colab-badge.svg\" alt=\"Open In Colab\"/></a>"
      ]
    },
    {
      "cell_type": "code",
      "execution_count": 7,
      "metadata": {
        "colab": {
          "base_uri": "https://localhost:8080/"
        },
        "id": "oP-7Gvp_4K1u",
        "outputId": "63126021-7114-42a8-989d-05c21bef47ab"
      },
      "outputs": [
        {
          "output_type": "stream",
          "name": "stdout",
          "text": [
            "\n",
            "Exercicio da calculadora\n",
            "\n",
            "Digite o primeiro número: 78458\n",
            "Digite o segundo número: 45\n",
            "\n",
            "\n",
            "Digite a operação (+, -, *, /): /\n",
            "\n",
            "\n",
            "Resultado: 1743.51\n",
            "\n",
            "\n"
          ]
        }
      ],
      "source": [
        "print(\"\\nExercicio da calculadora\\n\")\n",
        "\n",
        "'''\n",
        "Desenvolva uma calculadora em Python que realize as quatro operações básicas (adição,\n",
        "subtração, multiplicação e divisão) entre dois números. A calculadora deve ser capaz de lidar com\n",
        "diversos tipos de erros de entrada e operação. Siga as especificações abaixo:\n",
        "1. A calculadora deve solicitar ao usuário que insira dois números e uma operação.\n",
        "2. As operações válidas são: + (adição), - (subtração), * (multiplicação) e / (divisão).\n",
        "3. O programa deve continuar solicitando entradas até que uma operação válida seja\n",
        "concluída.\n",
        "4. Trate os seguintes erros:\n",
        "⚬ Entrada inválida (não numérica) para os números\n",
        "⚬ Divisão por zero\n",
        "⚬ Operação inválida\n",
        "5. Use try/except para capturar e tratar os erros apropriadamente.\n",
        "6. Após cada erro, o programa deve informar o usuário sobre o erro e solicitar nova entrada.\n",
        "7. Quando uma operação é concluída com sucesso, exiba o resultado e encerre o programa.\n",
        "'''\n",
        "\n",
        "while True:\n",
        "        try:\n",
        "            num1 = float(input(\"Digite o primeiro número: \"))\n",
        "            num2 = float(input(\"Digite o segundo número: \"))\n",
        "            print(\"\\n\")\n",
        "            operacao = input(\"Digite a operação (+, -, *, /): \")\n",
        "\n",
        "            if operacao == '+':\n",
        "                resultado = num1 + num2\n",
        "            elif operacao == '-':\n",
        "                resultado = num1 - num2\n",
        "            elif operacao == '*':\n",
        "                resultado = num1 * num2\n",
        "            elif operacao == '/':\n",
        "                resultado = num1 / num2\n",
        "            else:\n",
        "                raise ValueError(\"Operação inválida\")\n",
        "            print(\"\\n\")\n",
        "            print(f\"Resultado: {resultado:.2f}\")\n",
        "            print(\"\\n\")\n",
        "            break\n",
        "        except ValueError as e:\n",
        "            print(\"\\n\")\n",
        "            print(f\"Erro: {e}. Tente novamente.\")\n",
        "        except ZeroDivisionError:\n",
        "            print(\"\\n\")\n",
        "            print(\"Erro: Divisão por zero não é permitida. Tente novamente.\")\n",
        "\n",
        ""
      ]
    }
  ]
}